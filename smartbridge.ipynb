{
 "cells": [
  {
   "cell_type": "code",
   "execution_count": null,
   "id": "f2688d4f",
   "metadata": {},
   "outputs": [],
   "source": []
  },
  {
   "cell_type": "code",
   "execution_count": null,
   "id": "0468186e",
   "metadata": {},
   "outputs": [],
   "source": []
  },
  {
   "cell_type": "code",
   "execution_count": null,
   "id": "c4ccfd72",
   "metadata": {},
   "outputs": [],
   "source": []
  },
  {
   "cell_type": "code",
   "execution_count": null,
   "id": "39fd5b68",
   "metadata": {},
   "outputs": [],
   "source": []
  },
  {
   "cell_type": "code",
   "execution_count": null,
   "id": "6324b5c0",
   "metadata": {},
   "outputs": [],
   "source": []
  },
  {
   "cell_type": "code",
   "execution_count": 3,
   "id": "664de7a9",
   "metadata": {},
   "outputs": [
    {
     "name": "stdout",
     "output_type": "stream",
     "text": [
      "[INFO] Loading data...\n",
      "(72, 12996) (72,)\n"
     ]
    }
   ],
   "source": [
    "from sklearn.ensemble import RandomForestClassifier\n",
    "from sklearn.preprocessing import LabelEncoder\n",
    "from sklearn.metrics import confusion_matrix\n",
    "from skimage import feature\n",
    "from imutils import build_montages\n",
    "from imutils import paths\n",
    "import numpy as np\n",
    "import cv2\n",
    "import os\n",
    "import pickle #importing the pickle file\n",
    "\n",
    "def quantify_image(image):\n",
    "    features = feature.hog(image, orientations=9, pixels_per_cell=(10, 10), cells_per_block=(2, 2), transform_sqrt=2, block_norm=\"L1\")\n",
    "    return features\n",
    "\n",
    "# Function to load split data\n",
    "def load_split(path):\n",
    "               \n",
    "    imagePaths = list(paths.list_images(path))\n",
    "    \n",
    "    # Initialize lists to store images and labels\n",
    "    data = []\n",
    "    labels = []\n",
    "    \n",
    "    # Iterate over the image paths\n",
    "    for imagePath in imagePaths:\n",
    "        label = imagePath.split(os.path.sep)[-2]\n",
    "        \n",
    "        image = cv2.imread(imagePath)\n",
    "        image = cv2.cvtColor(image, cv2.COLOR_BGR2GRAY)\n",
    "        image = cv2.resize(image, (200, 200))\n",
    "        image = cv2.threshold(image, 0, 255, cv2.THRESH_BINARY_INV | cv2.THRESH_OTSU)[1]\n",
    "        \n",
    "        features = quantify_image(image)\n",
    "        data.append(features)\n",
    "        labels.append(label)\n",
    "    \n",
    "    # Return the loaded data as NumPy arrays\n",
    "    return np.array(data), np.array(labels)\n",
    "\n",
    "# Path to the training and testing directories\n",
    "trainingPath = 'C:/Users/Nithish/Downloads/spiral (1)/spiral/training'\n",
    "testingPath = 'C:/Users/Nithish/Downloads/spiral (1)/spiral/testing'\n",
    "\n",
    "print(\"[INFO] Loading data...\")\n",
    "X_train, y_train = load_split(trainingPath)\n",
    "X_test, y_test = load_split(testingPath)\n",
    "\n",
    "le = LabelEncoder()\n",
    "y_train = le.fit_transform(y_train)\n",
    "y_test = le.fit_transform(y_test)\n",
    "print(X_train.shape, y_train.shape)\n",
    "\n",
    "# Create a RandomForestClassifier and fit the training data\n",
    "#clf = RandomForestClassifier()\n",
    "#clf.fit(X_train, y_train)\n",
    "\n",
    "\n"
   ]
  },
  {
   "cell_type": "code",
   "execution_count": null,
   "id": "e0fdc01c",
   "metadata": {
    "scrolled": true
   },
   "outputs": [
    {
     "name": "stdout",
     "output_type": "stream",
     "text": [
      " [INFO] training model\n"
     ]
    }
   ],
   "source": [
    "print (\" [INFO] training model\")\n",
    "model = RandomForestClassifier(n_estimators=100)\n",
    "model.fit (X_train,y_train)\n",
    "\n",
    "testingPaths = list(paths.list_images (testingPath))\n",
    "\n",
    "idxs = np.arange(0, len (testingPaths)) \n",
    "idxs = np.random.choice (idxs, size=(25,), replace=False) \n",
    "images = []\n",
    "\n",
    "for i in idxs:\n",
    "    # Load the testing image, clone it, and resize it\n",
    "    image = cv2.imread(testingPaths[i])\n",
    "    output = image.copy()\n",
    "    output = cv2.resize(output, (128, 128))\n",
    "\n",
    "    # Pre-process the image\n",
    "    image= cv2.cvtColor(image, cv2.COLOR_BGR2GRAY)\n",
    "    image = cv2.resize(image, (200, 200))\n",
    "    image = cv2.threshold(image, 0, 255, cv2.THRESH_BINARY_INV | cv2.THRESH_OTSU)[1]\n",
    "    \n",
    "    features = quantify_image(image)\n",
    "    preds = model.predict([features])\n",
    "    label = le.inverse_transform(preds)[0]\n",
    "    \n",
    "    color = (0, 255, 0) if label==\"healthy\" else (0, 0, 255)\n",
    "    cv2.putText(output, label, (3, 20), cv2.FONT_HERSHEY_SIMPLEX, 0.5, color, 2)\n",
    "\n",
    "    images.append(output)\n",
    "    \n",
    "    montage = build_montages(images, (128, 128), (5, 5))[0]\n",
    "    cv2.imshow('Output', montage)\n",
    "    cv2.waitKey(0)\n",
    "\n",
    "    # Extract the label from the file name\n",
    "    #label = testingPaths[i].split(os.path.sep)[-2]\n",
    "\n",
    "    # Draw the colored class label on the output image\n",
    "    #color = (0, 255, 0)  # Green color for \"healthy\" label\n",
    "    #if label != \"healthy\":\n",
    "        #color = (0, 0, 255)  # Red color for non-healthy labels\n",
    "\n",
    "    \n",
    "\n",
    "# Evaluate the classifier on the test data\n",
    "#accuracy = model.score(X_test, y_test)\n",
    "#print(\"Accuracy:\", accuracy)\n",
    "\n",
    "# Use the classifier to make predictions\n",
    "#predictions = model.predict(X_test)\n",
    "#print(\"Predictions:\", predictions)"
   ]
  },
  {
   "cell_type": "code",
   "execution_count": null,
   "id": "63ccf4bd",
   "metadata": {},
   "outputs": [],
   "source": [
    "predictions = model.predict(X_test)\n",
    "cm = confusion_matrix(y_test,predictions).flatten()\n",
    "print(cm)\n",
    "(tn, fp, fn, tp) = cm\n",
    "accuracy = (tp + tn) / float(cm.sum())\n",
    "print(accuracy)\n",
    "      \n",
    "model_path = 'C:/Users/Nithish/Downloads/spiral (1)/spiral.pkl'\n",
    "\n",
    "# Save the model using pickle\n",
    "with open(model_path, 'wb') as file:\n",
    "    pickle.dump(model, file)"
   ]
  },
  {
   "cell_type": "code",
   "execution_count": null,
   "id": "6693cd33",
   "metadata": {},
   "outputs": [],
   "source": []
  },
  {
   "cell_type": "code",
   "execution_count": null,
   "id": "05c803f8",
   "metadata": {},
   "outputs": [],
   "source": [
    "import os\n",
    "from skimage import feature\n",
    "\n",
    "# Function to quantify the image using histogram-based features\n",
    "def quantify_image(image):\n",
    "    # Compute histogram of oriented gradients (HOG) features\n",
    "    features = feature.hog(image, orientations=9, pixels_per_cell=(8, 8), cells_per_block=(2, 2))\n",
    "    return features\n",
    "\n",
    "# Path to the training and testing directories\n",
    "trainingPath = 'C:/Users/Nithish/Downloads/spiral (1)/spiral/training'\n",
    "testingPath = 'C:/Users/Nithish/Downloads/spiral (1)/spiral/testing'\n",
    "\n",
    "# Get the list of image paths in the training directory\n",
    "trainingImagePaths = list(paths.list_images(trainingPath))\n",
    "\n",
    "# Initialize lists to store images and labels\n",
    "data = []\n",
    "labels = []\n",
    "\n",
    "# Iterate over the training image paths\n",
    "for imagePath in trainingImagePaths:\n",
    "    # Load the image, convert it to grayscale, and resize it\n",
    "    image = cv2.imread(imagePath)\n",
    "    image = cv2.cvtColor(image, cv2.COLOR_BGR2GRAY)\n",
    "    image = cv2.resize(image, (200, 200))\n",
    "\n",
    "    # Quantify the image\n",
    "    features = quantify_image(image)\n",
    "\n",
    "    # Extract the label from the file name\n",
    "    label = imagePath.split(os.path.sep)[-2]\n",
    "\n",
    "    # Append the features and label to the lists\n",
    "    data.append(features)\n",
    "    labels.append(label)"
   ]
  },
  {
   "cell_type": "code",
   "execution_count": 11,
   "id": "3ef368d6",
   "metadata": {},
   "outputs": [
    {
     "data": {
      "text/plain": [
       "-1"
      ]
     },
     "execution_count": 11,
     "metadata": {},
     "output_type": "execute_result"
    }
   ],
   "source": [
    "images = []\n",
    "\n",
    "for i in idxs:\n",
    "    # Load the testing image, clone it, and resize it\n",
    "    image = cv2.imread(testingPaths[i])\n",
    "    output = image.copy()\n",
    "    output = cv2.resize(output, (128, 128))\n",
    "\n",
    "    # Pre-process the image\n",
    "    image_gray = cv2.cvtColor(image, cv2.COLOR_BGR2GRAY)\n",
    "    image_gray = cv2.resize(image_gray, (200, 200))\n",
    "    _, image_thresh = cv2.threshold(image_gray, 0, 255, cv2.THRESH_BINARY_INV | cv2.THRESH_OTSU)\n",
    "\n",
    "    # Append the processed image to the list\n",
    "    images.append(output)\n",
    "\n",
    "    # Extract the label from the file name\n",
    "    label = testingPaths[i].split(os.path.sep)[-2]\n",
    "\n",
    "    # Draw the colored class label on the output image\n",
    "    color = (0, 255, 0)  # Green color for \"healthy\" label\n",
    "    if label != \"healthy\":\n",
    "        color = (0, 0, 255)  # Red color for non-healthy labels\n",
    "\n",
    "    cv2.putText(output, label, (3, 20), cv2.FONT_HERSHEY_SIMPLEX, 0.5, color, 2)\n",
    "\n",
    "# Create a montage using 128×128 \"tiles\" with 5 rows and 5 columns\n",
    "montage = build_montages(images, (128, 128), (5, 5))[0]\n",
    "\n",
    "# Show the output montage\n",
    "cv2.imshow(\"Output\", montage)\n",
    "cv2.waitKey(0)"
   ]
  },
  {
   "cell_type": "code",
   "execution_count": 23,
   "id": "99cd349a",
   "metadata": {},
   "outputs": [
    {
     "name": "stdout",
     "output_type": "stream",
     "text": [
      "['healthy' 'healthy' 'healthy' 'healthy' 'healthy' 'healthy' 'healthy'\n",
      " 'healthy' 'healthy' 'healthy' 'healthy' 'healthy' 'healthy' 'healthy'\n",
      " 'healthy' 'healthy' 'healthy' 'healthy' 'healthy' 'healthy' 'healthy'\n",
      " 'healthy' 'healthy' 'healthy' 'healthy' 'healthy' 'healthy' 'healthy'\n",
      " 'healthy' 'healthy' 'healthy' 'healthy' 'healthy' 'healthy' 'healthy'\n",
      " 'healthy' 'parkinson' 'parkinson' 'parkinson' 'parkinson' 'parkinson'\n",
      " 'parkinson' 'parkinson' 'parkinson' 'parkinson' 'parkinson' 'parkinson'\n",
      " 'parkinson' 'parkinson' 'parkinson' 'parkinson' 'parkinson' 'parkinson'\n",
      " 'parkinson' 'parkinson' 'parkinson' 'parkinson' 'parkinson' 'parkinson'\n",
      " 'parkinson' 'parkinson' 'parkinson' 'parkinson' 'parkinson' 'parkinson'\n",
      " 'parkinson' 'parkinson' 'parkinson' 'parkinson' 'parkinson' 'parkinson'\n",
      " 'parkinson']\n"
     ]
    }
   ],
   "source": [
    " \n",
    "    # make predictions on the testing data\n",
    "predictions=model.predict(X_test)\n",
    "print(predictions)"
   ]
  },
  {
   "cell_type": "code",
   "execution_count": 24,
   "id": "8ca8fae6",
   "metadata": {},
   "outputs": [
    {
     "name": "stdout",
     "output_type": "stream",
     "text": [
      "[36  0  0 36]\n",
      "1.0\n"
     ]
    }
   ],
   "source": [
    "# compute the confusion matrix and and use it to derive the raw\n",
    "# accuracy\n",
    "from sklearn.metrics import confusion_matrix\n",
    "cm = confusion_matrix(y_test,predictions).flatten()\n",
    "print(cm)\n",
    "(tn, fp, fn, tp) = cm\n",
    "accuracy = (tp + tn) / float(cm.sum())\n",
    "print(accuracy)"
   ]
  },
  {
   "cell_type": "code",
   "execution_count": 25,
   "id": "063722ec",
   "metadata": {},
   "outputs": [],
   "source": [
    "import pickle\n",
    "\n",
    "\n",
    "# Specify the file path to save the model\n",
    "model_path = 'C:/Users/Nithish/Downloads/spiral (1)/spiral.pkl'\n",
    "\n",
    "# Save the model using pickle\n",
    "with open(model_path, 'wb') as file:\n",
    "    pickle.dump(model, file)\n"
   ]
  },
  {
   "cell_type": "code",
   "execution_count": null,
   "id": "ca9f9411",
   "metadata": {},
   "outputs": [],
   "source": []
  }
 ],
 "metadata": {
  "kernelspec": {
   "display_name": "Python 3 (ipykernel)",
   "language": "python",
   "name": "python3"
  },
  "language_info": {
   "codemirror_mode": {
    "name": "ipython",
    "version": 3
   },
   "file_extension": ".py",
   "mimetype": "text/x-python",
   "name": "python",
   "nbconvert_exporter": "python",
   "pygments_lexer": "ipython3",
   "version": "3.10.9"
  }
 },
 "nbformat": 4,
 "nbformat_minor": 5
}
